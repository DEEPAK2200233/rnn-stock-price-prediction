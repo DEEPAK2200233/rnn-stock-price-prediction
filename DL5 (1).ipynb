{
  "nbformat": 4,
  "nbformat_minor": 0,
  "metadata": {
    "colab": {
      "provenance": []
    },
    "kernelspec": {
      "name": "python3",
      "display_name": "Python 3"
    },
    "language_info": {
      "name": "python"
    }
  },
  "cells": [
    {
      "cell_type": "code",
      "execution_count": 1,
      "metadata": {
        "id": "J28nnbu6uhab"
      },
      "outputs": [],
      "source": [
        "import numpy as np\n",
        "import matplotlib.pyplot as plt\n",
        "import pandas as pd\n",
        "from sklearn.preprocessing import MinMaxScaler\n",
        "from keras import layers\n",
        "from keras.models import Sequential"
      ]
    },
    {
      "cell_type": "code",
      "source": [
        "dataset_train = pd.read_csv('trainset.csv')"
      ],
      "metadata": {
        "id": "NgCjScNXukGE"
      },
      "execution_count": 2,
      "outputs": []
    },
    {
      "cell_type": "code",
      "source": [
        "dataset_train.columns"
      ],
      "metadata": {
        "colab": {
          "base_uri": "https://localhost:8080/"
        },
        "id": "WvsRsaU_u83e",
        "outputId": "8c14b51c-1cc5-4bd6-f912-26c1e4199771"
      },
      "execution_count": 3,
      "outputs": [
        {
          "output_type": "execute_result",
          "data": {
            "text/plain": [
              "Index(['Date', 'Open', 'High', 'Low', 'Close', 'Adj Close', 'Volume'], dtype='object')"
            ]
          },
          "metadata": {},
          "execution_count": 3
        }
      ]
    },
    {
      "cell_type": "code",
      "source": [
        "dataset_train.head()"
      ],
      "metadata": {
        "colab": {
          "base_uri": "https://localhost:8080/",
          "height": 206
        },
        "id": "n-xbm1Tfu_d4",
        "outputId": "1d7a9764-234b-4c08-c20e-c1e60c815d88"
      },
      "execution_count": 4,
      "outputs": [
        {
          "output_type": "execute_result",
          "data": {
            "text/plain": [
              "         Date        Open        High         Low       Close   Adj Close  \\\n",
              "0  2013-01-02  357.385559  361.151062  355.959839  359.288177  359.288177   \n",
              "1  2013-01-03  360.122742  363.600128  358.031342  359.496826  359.496826   \n",
              "2  2013-01-04  362.313507  368.339294  361.488861  366.600616  366.600616   \n",
              "3  2013-01-07  365.348755  367.301056  362.929504  365.001007  365.001007   \n",
              "4  2013-01-08  365.393463  365.771027  359.874359  364.280701  364.280701   \n",
              "\n",
              "    Volume  \n",
              "0  5115500  \n",
              "1  4666500  \n",
              "2  5562800  \n",
              "3  3332900  \n",
              "4  3373900  "
            ],
            "text/html": [
              "\n",
              "  <div id=\"df-9ceeba0a-df61-42d6-bc39-6864ccb9b379\" class=\"colab-df-container\">\n",
              "    <div>\n",
              "<style scoped>\n",
              "    .dataframe tbody tr th:only-of-type {\n",
              "        vertical-align: middle;\n",
              "    }\n",
              "\n",
              "    .dataframe tbody tr th {\n",
              "        vertical-align: top;\n",
              "    }\n",
              "\n",
              "    .dataframe thead th {\n",
              "        text-align: right;\n",
              "    }\n",
              "</style>\n",
              "<table border=\"1\" class=\"dataframe\">\n",
              "  <thead>\n",
              "    <tr style=\"text-align: right;\">\n",
              "      <th></th>\n",
              "      <th>Date</th>\n",
              "      <th>Open</th>\n",
              "      <th>High</th>\n",
              "      <th>Low</th>\n",
              "      <th>Close</th>\n",
              "      <th>Adj Close</th>\n",
              "      <th>Volume</th>\n",
              "    </tr>\n",
              "  </thead>\n",
              "  <tbody>\n",
              "    <tr>\n",
              "      <th>0</th>\n",
              "      <td>2013-01-02</td>\n",
              "      <td>357.385559</td>\n",
              "      <td>361.151062</td>\n",
              "      <td>355.959839</td>\n",
              "      <td>359.288177</td>\n",
              "      <td>359.288177</td>\n",
              "      <td>5115500</td>\n",
              "    </tr>\n",
              "    <tr>\n",
              "      <th>1</th>\n",
              "      <td>2013-01-03</td>\n",
              "      <td>360.122742</td>\n",
              "      <td>363.600128</td>\n",
              "      <td>358.031342</td>\n",
              "      <td>359.496826</td>\n",
              "      <td>359.496826</td>\n",
              "      <td>4666500</td>\n",
              "    </tr>\n",
              "    <tr>\n",
              "      <th>2</th>\n",
              "      <td>2013-01-04</td>\n",
              "      <td>362.313507</td>\n",
              "      <td>368.339294</td>\n",
              "      <td>361.488861</td>\n",
              "      <td>366.600616</td>\n",
              "      <td>366.600616</td>\n",
              "      <td>5562800</td>\n",
              "    </tr>\n",
              "    <tr>\n",
              "      <th>3</th>\n",
              "      <td>2013-01-07</td>\n",
              "      <td>365.348755</td>\n",
              "      <td>367.301056</td>\n",
              "      <td>362.929504</td>\n",
              "      <td>365.001007</td>\n",
              "      <td>365.001007</td>\n",
              "      <td>3332900</td>\n",
              "    </tr>\n",
              "    <tr>\n",
              "      <th>4</th>\n",
              "      <td>2013-01-08</td>\n",
              "      <td>365.393463</td>\n",
              "      <td>365.771027</td>\n",
              "      <td>359.874359</td>\n",
              "      <td>364.280701</td>\n",
              "      <td>364.280701</td>\n",
              "      <td>3373900</td>\n",
              "    </tr>\n",
              "  </tbody>\n",
              "</table>\n",
              "</div>\n",
              "    <div class=\"colab-df-buttons\">\n",
              "\n",
              "  <div class=\"colab-df-container\">\n",
              "    <button class=\"colab-df-convert\" onclick=\"convertToInteractive('df-9ceeba0a-df61-42d6-bc39-6864ccb9b379')\"\n",
              "            title=\"Convert this dataframe to an interactive table.\"\n",
              "            style=\"display:none;\">\n",
              "\n",
              "  <svg xmlns=\"http://www.w3.org/2000/svg\" height=\"24px\" viewBox=\"0 -960 960 960\">\n",
              "    <path d=\"M120-120v-720h720v720H120Zm60-500h600v-160H180v160Zm220 220h160v-160H400v160Zm0 220h160v-160H400v160ZM180-400h160v-160H180v160Zm440 0h160v-160H620v160ZM180-180h160v-160H180v160Zm440 0h160v-160H620v160Z\"/>\n",
              "  </svg>\n",
              "    </button>\n",
              "\n",
              "  <style>\n",
              "    .colab-df-container {\n",
              "      display:flex;\n",
              "      gap: 12px;\n",
              "    }\n",
              "\n",
              "    .colab-df-convert {\n",
              "      background-color: #E8F0FE;\n",
              "      border: none;\n",
              "      border-radius: 50%;\n",
              "      cursor: pointer;\n",
              "      display: none;\n",
              "      fill: #1967D2;\n",
              "      height: 32px;\n",
              "      padding: 0 0 0 0;\n",
              "      width: 32px;\n",
              "    }\n",
              "\n",
              "    .colab-df-convert:hover {\n",
              "      background-color: #E2EBFA;\n",
              "      box-shadow: 0px 1px 2px rgba(60, 64, 67, 0.3), 0px 1px 3px 1px rgba(60, 64, 67, 0.15);\n",
              "      fill: #174EA6;\n",
              "    }\n",
              "\n",
              "    .colab-df-buttons div {\n",
              "      margin-bottom: 4px;\n",
              "    }\n",
              "\n",
              "    [theme=dark] .colab-df-convert {\n",
              "      background-color: #3B4455;\n",
              "      fill: #D2E3FC;\n",
              "    }\n",
              "\n",
              "    [theme=dark] .colab-df-convert:hover {\n",
              "      background-color: #434B5C;\n",
              "      box-shadow: 0px 1px 3px 1px rgba(0, 0, 0, 0.15);\n",
              "      filter: drop-shadow(0px 1px 2px rgba(0, 0, 0, 0.3));\n",
              "      fill: #FFFFFF;\n",
              "    }\n",
              "  </style>\n",
              "\n",
              "    <script>\n",
              "      const buttonEl =\n",
              "        document.querySelector('#df-9ceeba0a-df61-42d6-bc39-6864ccb9b379 button.colab-df-convert');\n",
              "      buttonEl.style.display =\n",
              "        google.colab.kernel.accessAllowed ? 'block' : 'none';\n",
              "\n",
              "      async function convertToInteractive(key) {\n",
              "        const element = document.querySelector('#df-9ceeba0a-df61-42d6-bc39-6864ccb9b379');\n",
              "        const dataTable =\n",
              "          await google.colab.kernel.invokeFunction('convertToInteractive',\n",
              "                                                    [key], {});\n",
              "        if (!dataTable) return;\n",
              "\n",
              "        const docLinkHtml = 'Like what you see? Visit the ' +\n",
              "          '<a target=\"_blank\" href=https://colab.research.google.com/notebooks/data_table.ipynb>data table notebook</a>'\n",
              "          + ' to learn more about interactive tables.';\n",
              "        element.innerHTML = '';\n",
              "        dataTable['output_type'] = 'display_data';\n",
              "        await google.colab.output.renderOutput(dataTable, element);\n",
              "        const docLink = document.createElement('div');\n",
              "        docLink.innerHTML = docLinkHtml;\n",
              "        element.appendChild(docLink);\n",
              "      }\n",
              "    </script>\n",
              "  </div>\n",
              "\n",
              "\n",
              "<div id=\"df-ea3c6f7c-e6de-49b6-983d-bfdd939fdf7b\">\n",
              "  <button class=\"colab-df-quickchart\" onclick=\"quickchart('df-ea3c6f7c-e6de-49b6-983d-bfdd939fdf7b')\"\n",
              "            title=\"Suggest charts\"\n",
              "            style=\"display:none;\">\n",
              "\n",
              "<svg xmlns=\"http://www.w3.org/2000/svg\" height=\"24px\"viewBox=\"0 0 24 24\"\n",
              "     width=\"24px\">\n",
              "    <g>\n",
              "        <path d=\"M19 3H5c-1.1 0-2 .9-2 2v14c0 1.1.9 2 2 2h14c1.1 0 2-.9 2-2V5c0-1.1-.9-2-2-2zM9 17H7v-7h2v7zm4 0h-2V7h2v10zm4 0h-2v-4h2v4z\"/>\n",
              "    </g>\n",
              "</svg>\n",
              "  </button>\n",
              "\n",
              "<style>\n",
              "  .colab-df-quickchart {\n",
              "      --bg-color: #E8F0FE;\n",
              "      --fill-color: #1967D2;\n",
              "      --hover-bg-color: #E2EBFA;\n",
              "      --hover-fill-color: #174EA6;\n",
              "      --disabled-fill-color: #AAA;\n",
              "      --disabled-bg-color: #DDD;\n",
              "  }\n",
              "\n",
              "  [theme=dark] .colab-df-quickchart {\n",
              "      --bg-color: #3B4455;\n",
              "      --fill-color: #D2E3FC;\n",
              "      --hover-bg-color: #434B5C;\n",
              "      --hover-fill-color: #FFFFFF;\n",
              "      --disabled-bg-color: #3B4455;\n",
              "      --disabled-fill-color: #666;\n",
              "  }\n",
              "\n",
              "  .colab-df-quickchart {\n",
              "    background-color: var(--bg-color);\n",
              "    border: none;\n",
              "    border-radius: 50%;\n",
              "    cursor: pointer;\n",
              "    display: none;\n",
              "    fill: var(--fill-color);\n",
              "    height: 32px;\n",
              "    padding: 0;\n",
              "    width: 32px;\n",
              "  }\n",
              "\n",
              "  .colab-df-quickchart:hover {\n",
              "    background-color: var(--hover-bg-color);\n",
              "    box-shadow: 0 1px 2px rgba(60, 64, 67, 0.3), 0 1px 3px 1px rgba(60, 64, 67, 0.15);\n",
              "    fill: var(--button-hover-fill-color);\n",
              "  }\n",
              "\n",
              "  .colab-df-quickchart-complete:disabled,\n",
              "  .colab-df-quickchart-complete:disabled:hover {\n",
              "    background-color: var(--disabled-bg-color);\n",
              "    fill: var(--disabled-fill-color);\n",
              "    box-shadow: none;\n",
              "  }\n",
              "\n",
              "  .colab-df-spinner {\n",
              "    border: 2px solid var(--fill-color);\n",
              "    border-color: transparent;\n",
              "    border-bottom-color: var(--fill-color);\n",
              "    animation:\n",
              "      spin 1s steps(1) infinite;\n",
              "  }\n",
              "\n",
              "  @keyframes spin {\n",
              "    0% {\n",
              "      border-color: transparent;\n",
              "      border-bottom-color: var(--fill-color);\n",
              "      border-left-color: var(--fill-color);\n",
              "    }\n",
              "    20% {\n",
              "      border-color: transparent;\n",
              "      border-left-color: var(--fill-color);\n",
              "      border-top-color: var(--fill-color);\n",
              "    }\n",
              "    30% {\n",
              "      border-color: transparent;\n",
              "      border-left-color: var(--fill-color);\n",
              "      border-top-color: var(--fill-color);\n",
              "      border-right-color: var(--fill-color);\n",
              "    }\n",
              "    40% {\n",
              "      border-color: transparent;\n",
              "      border-right-color: var(--fill-color);\n",
              "      border-top-color: var(--fill-color);\n",
              "    }\n",
              "    60% {\n",
              "      border-color: transparent;\n",
              "      border-right-color: var(--fill-color);\n",
              "    }\n",
              "    80% {\n",
              "      border-color: transparent;\n",
              "      border-right-color: var(--fill-color);\n",
              "      border-bottom-color: var(--fill-color);\n",
              "    }\n",
              "    90% {\n",
              "      border-color: transparent;\n",
              "      border-bottom-color: var(--fill-color);\n",
              "    }\n",
              "  }\n",
              "</style>\n",
              "\n",
              "  <script>\n",
              "    async function quickchart(key) {\n",
              "      const quickchartButtonEl =\n",
              "        document.querySelector('#' + key + ' button');\n",
              "      quickchartButtonEl.disabled = true;  // To prevent multiple clicks.\n",
              "      quickchartButtonEl.classList.add('colab-df-spinner');\n",
              "      try {\n",
              "        const charts = await google.colab.kernel.invokeFunction(\n",
              "            'suggestCharts', [key], {});\n",
              "      } catch (error) {\n",
              "        console.error('Error during call to suggestCharts:', error);\n",
              "      }\n",
              "      quickchartButtonEl.classList.remove('colab-df-spinner');\n",
              "      quickchartButtonEl.classList.add('colab-df-quickchart-complete');\n",
              "    }\n",
              "    (() => {\n",
              "      let quickchartButtonEl =\n",
              "        document.querySelector('#df-ea3c6f7c-e6de-49b6-983d-bfdd939fdf7b button');\n",
              "      quickchartButtonEl.style.display =\n",
              "        google.colab.kernel.accessAllowed ? 'block' : 'none';\n",
              "    })();\n",
              "  </script>\n",
              "</div>\n",
              "\n",
              "    </div>\n",
              "  </div>\n"
            ],
            "application/vnd.google.colaboratory.intrinsic+json": {
              "type": "dataframe",
              "variable_name": "dataset_train",
              "summary": "{\n  \"name\": \"dataset_train\",\n  \"rows\": 1259,\n  \"fields\": [\n    {\n      \"column\": \"Date\",\n      \"properties\": {\n        \"dtype\": \"object\",\n        \"num_unique_values\": 1259,\n        \"samples\": [\n          \"2013-04-23\",\n          \"2017-01-30\",\n          \"2013-03-06\"\n        ],\n        \"semantic_type\": \"\",\n        \"description\": \"\"\n      }\n    },\n    {\n      \"column\": \"Open\",\n      \"properties\": {\n        \"dtype\": \"number\",\n        \"std\": 175.63057351209417,\n        \"min\": 350.053253,\n        \"max\": 1075.199951,\n        \"num_unique_values\": 1228,\n        \"samples\": [\n          727.580017,\n          524.118103,\n          553.40564\n        ],\n        \"semantic_type\": \"\",\n        \"description\": \"\"\n      }\n    },\n    {\n      \"column\": \"High\",\n      \"properties\": {\n        \"dtype\": \"number\",\n        \"std\": 176.62741611717948,\n        \"min\": 350.391052,\n        \"max\": 1078.48999,\n        \"num_unique_values\": 1239,\n        \"samples\": [\n          580.309143,\n          577.489014,\n          517.056946\n        ],\n        \"semantic_type\": \"\",\n        \"description\": \"\"\n      }\n    },\n    {\n      \"column\": \"Low\",\n      \"properties\": {\n        \"dtype\": \"number\",\n        \"std\": 174.73281352959697,\n        \"min\": 345.512787,\n        \"max\": 1063.550049,\n        \"num_unique_values\": 1240,\n        \"samples\": [\n          576.052551,\n          568.403076,\n          518.469177\n        ],\n        \"semantic_type\": \"\",\n        \"description\": \"\"\n      }\n    },\n    {\n      \"column\": \"Close\",\n      \"properties\": {\n        \"dtype\": \"number\",\n        \"std\": 175.82099273815913,\n        \"min\": 349.164032,\n        \"max\": 1077.140015,\n        \"num_unique_values\": 1245,\n        \"samples\": [\n          749.460022,\n          557.812866,\n          927.330017\n        ],\n        \"semantic_type\": \"\",\n        \"description\": \"\"\n      }\n    },\n    {\n      \"column\": \"Adj Close\",\n      \"properties\": {\n        \"dtype\": \"number\",\n        \"std\": 175.82099273815913,\n        \"min\": 349.164032,\n        \"max\": 1077.140015,\n        \"num_unique_values\": 1245,\n        \"samples\": [\n          749.460022,\n          557.812866,\n          927.330017\n        ],\n        \"semantic_type\": \"\",\n        \"description\": \"\"\n      }\n    },\n    {\n      \"column\": \"Volume\",\n      \"properties\": {\n        \"dtype\": \"number\",\n        \"std\": 1672159,\n        \"min\": 7900,\n        \"max\": 23283100,\n        \"num_unique_values\": 1228,\n        \"samples\": [\n          1837200,\n          2000000,\n          1477800\n        ],\n        \"semantic_type\": \"\",\n        \"description\": \"\"\n      }\n    }\n  ]\n}"
            }
          },
          "metadata": {},
          "execution_count": 4
        }
      ]
    },
    {
      "cell_type": "code",
      "source": [
        "train_set = dataset_train.iloc[:,1:2].values--++++++++++++++++++++++++++++++"
      ],
      "metadata": {
        "id": "u0u-JDUxvGWW"
      },
      "execution_count": 5,
      "outputs": []
    },
    {
      "cell_type": "code",
      "source": [
        "type(train_set)"
      ],
      "metadata": {
        "colab": {
          "base_uri": "https://localhost:8080/"
        },
        "id": "BrNL9AaevVqQ",
        "outputId": "f4ec2348-cd8c-41d2-8709-ae7f1bc531a7"
      },
      "execution_count": 6,
      "outputs": [
        {
          "output_type": "execute_result",
          "data": {
            "text/plain": [
              "numpy.ndarray"
            ]
          },
          "metadata": {},
          "execution_count": 6
        }
      ]
    },
    {
      "cell_type": "code",
      "source": [
        "train_set.shape"
      ],
      "metadata": {
        "colab": {
          "base_uri": "https://localhost:8080/"
        },
        "id": "Gm3sVT42vcxX",
        "outputId": "5007459f-b8ee-45a7-b022-f76fe9b12b5f"
      },
      "execution_count": 7,
      "outputs": [
        {
          "output_type": "execute_result",
          "data": {
            "text/plain": [
              "(1259, 1)"
            ]
          },
          "metadata": {},
          "execution_count": 7
        }
      ]
    },
    {
      "cell_type": "code",
      "source": [
        "sc = MinMaxScaler(feature_range=(0,1))\n",
        "training_set_scaled = sc.fit_transform(train_set)"
      ],
      "metadata": {
        "id": "u6S8M0GrvhCy"
      },
      "execution_count": 8,
      "outputs": []
    },
    {
      "cell_type": "code",
      "source": [
        "training_set_scaled.shape"
      ],
      "metadata": {
        "colab": {
          "base_uri": "https://localhost:8080/"
        },
        "id": "HxFNPsk4vllW",
        "outputId": "59c841ea-c408-4ea2-90ae-df6aeb58d482"
      },
      "execution_count": 9,
      "outputs": [
        {
          "output_type": "execute_result",
          "data": {
            "text/plain": [
              "(1259, 1)"
            ]
          },
          "metadata": {},
          "execution_count": 9
        }
      ]
    },
    {
      "cell_type": "code",
      "source": [
        "X_train_array = []\n",
        "y_train_array = []\n",
        "for i in range(60, 1259):\n",
        "  X_train_array.append(training_set_scaled[i-60:i,0])\n",
        "  y_train_array.append(training_set_scaled[i,0])\n",
        "X_train, y_train = np.array(X_train_array), np.array(y_train_array)\n",
        "X_train1 = X_train.reshape((X_train.shape[0], X_train.shape[1],1))"
      ],
      "metadata": {
        "id": "wxSRh-36vnyd"
      },
      "execution_count": 10,
      "outputs": []
    },
    {
      "cell_type": "code",
      "source": [
        "X_train.shape"
      ],
      "metadata": {
        "colab": {
          "base_uri": "https://localhost:8080/"
        },
        "id": "HjrRprePvr_z",
        "outputId": "4c2e91f9-0ada-4d42-b50c-2366bce406ac"
      },
      "execution_count": 11,
      "outputs": [
        {
          "output_type": "execute_result",
          "data": {
            "text/plain": [
              "(1199, 60)"
            ]
          },
          "metadata": {},
          "execution_count": 11
        }
      ]
    },
    {
      "cell_type": "code",
      "source": [
        "length = 60\n",
        "n_features = 1"
      ],
      "metadata": {
        "id": "ZkEl2NVhvuEN"
      },
      "execution_count": 12,
      "outputs": []
    },
    {
      "cell_type": "code",
      "source": [
        "model =Sequential()\n",
        "model.add(layers.SimpleRNN(20,input_shape=(length,n_features)))\n",
        "model.add(layers.Dense(1))\n",
        "model.compile(optimizer='adam', loss='mse')\n",
        "model.summary()"
      ],
      "metadata": {
        "colab": {
          "base_uri": "https://localhost:8080/"
        },
        "id": "aEpNmXnRvxPN",
        "outputId": "f800a0cf-123f-41ac-b6ee-10038c403329"
      },
      "execution_count": 13,
      "outputs": [
        {
          "output_type": "stream",
          "name": "stdout",
          "text": [
            "Model: \"sequential\"\n",
            "_________________________________________________________________\n",
            " Layer (type)                Output Shape              Param #   \n",
            "=================================================================\n",
            " simple_rnn (SimpleRNN)      (None, 20)                440       \n",
            "                                                                 \n",
            " dense (Dense)               (None, 1)                 21        \n",
            "                                                                 \n",
            "=================================================================\n",
            "Total params: 461 (1.80 KB)\n",
            "Trainable params: 461 (1.80 KB)\n",
            "Non-trainable params: 0 (0.00 Byte)\n",
            "_________________________________________________________________\n"
          ]
        }
      ]
    },
    {
      "cell_type": "code",
      "source": [
        "model.fit(X_train1,y_train,epochs=65, batch_size=32)"
      ],
      "metadata": {
        "colab": {
          "base_uri": "https://localhost:8080/"
        },
        "id": "SFHU7oaPyUqn",
        "outputId": "298c6e45-65f7-4d8d-adb1-b67e843f1a56"
      },
      "execution_count": 14,
      "outputs": [
        {
          "output_type": "stream",
          "name": "stdout",
          "text": [
            "Epoch 1/65\n",
            "38/38 [==============================] - 2s 10ms/step - loss: 0.3495\n",
            "Epoch 2/65\n",
            "38/38 [==============================] - 0s 9ms/step - loss: 0.0094\n",
            "Epoch 3/65\n",
            "38/38 [==============================] - 0s 9ms/step - loss: 0.0034\n",
            "Epoch 4/65\n",
            "38/38 [==============================] - 0s 10ms/step - loss: 0.0022\n",
            "Epoch 5/65\n",
            "38/38 [==============================] - 0s 9ms/step - loss: 0.0017\n",
            "Epoch 6/65\n",
            "38/38 [==============================] - 0s 10ms/step - loss: 0.0015\n",
            "Epoch 7/65\n",
            "38/38 [==============================] - 0s 9ms/step - loss: 0.0013\n",
            "Epoch 8/65\n",
            "38/38 [==============================] - 0s 9ms/step - loss: 0.0013\n",
            "Epoch 9/65\n",
            "38/38 [==============================] - 0s 10ms/step - loss: 0.0013\n",
            "Epoch 10/65\n",
            "38/38 [==============================] - 0s 9ms/step - loss: 0.0011\n",
            "Epoch 11/65\n",
            "38/38 [==============================] - 0s 9ms/step - loss: 0.0010\n",
            "Epoch 12/65\n",
            "38/38 [==============================] - 0s 10ms/step - loss: 0.0010\n",
            "Epoch 13/65\n",
            "38/38 [==============================] - 0s 9ms/step - loss: 9.9562e-04\n",
            "Epoch 14/65\n",
            "38/38 [==============================] - 0s 9ms/step - loss: 9.6015e-04\n",
            "Epoch 15/65\n",
            "38/38 [==============================] - 0s 9ms/step - loss: 9.2834e-04\n",
            "Epoch 16/65\n",
            "38/38 [==============================] - 0s 9ms/step - loss: 8.8328e-04\n",
            "Epoch 17/65\n",
            "38/38 [==============================] - 0s 9ms/step - loss: 8.7478e-04\n",
            "Epoch 18/65\n",
            "38/38 [==============================] - 0s 9ms/step - loss: 8.2660e-04\n",
            "Epoch 19/65\n",
            "38/38 [==============================] - 0s 9ms/step - loss: 8.2041e-04\n",
            "Epoch 20/65\n",
            "38/38 [==============================] - 0s 9ms/step - loss: 8.0846e-04\n",
            "Epoch 21/65\n",
            "38/38 [==============================] - 0s 9ms/step - loss: 7.7462e-04\n",
            "Epoch 22/65\n",
            "38/38 [==============================] - 0s 9ms/step - loss: 7.7850e-04\n",
            "Epoch 23/65\n",
            "38/38 [==============================] - 0s 10ms/step - loss: 8.1063e-04\n",
            "Epoch 24/65\n",
            "38/38 [==============================] - 0s 10ms/step - loss: 7.5125e-04\n",
            "Epoch 25/65\n",
            "38/38 [==============================] - 0s 9ms/step - loss: 7.3444e-04\n",
            "Epoch 26/65\n",
            "38/38 [==============================] - 0s 10ms/step - loss: 7.1115e-04\n",
            "Epoch 27/65\n",
            "38/38 [==============================] - 0s 9ms/step - loss: 7.1015e-04\n",
            "Epoch 28/65\n",
            "38/38 [==============================] - 1s 14ms/step - loss: 7.1982e-04\n",
            "Epoch 29/65\n",
            "38/38 [==============================] - 1s 14ms/step - loss: 6.8310e-04\n",
            "Epoch 30/65\n",
            "38/38 [==============================] - 1s 15ms/step - loss: 7.3482e-04\n",
            "Epoch 31/65\n",
            "38/38 [==============================] - 1s 14ms/step - loss: 7.0141e-04\n",
            "Epoch 32/65\n",
            "38/38 [==============================] - 1s 16ms/step - loss: 7.0223e-04\n",
            "Epoch 33/65\n",
            "38/38 [==============================] - 0s 12ms/step - loss: 6.8349e-04\n",
            "Epoch 34/65\n",
            "38/38 [==============================] - 0s 9ms/step - loss: 6.8981e-04\n",
            "Epoch 35/65\n",
            "38/38 [==============================] - 0s 10ms/step - loss: 6.8489e-04\n",
            "Epoch 36/65\n",
            "38/38 [==============================] - 0s 10ms/step - loss: 6.6865e-04\n",
            "Epoch 37/65\n",
            "38/38 [==============================] - 0s 9ms/step - loss: 6.3783e-04\n",
            "Epoch 38/65\n",
            "38/38 [==============================] - 0s 9ms/step - loss: 6.2111e-04\n",
            "Epoch 39/65\n",
            "38/38 [==============================] - 0s 9ms/step - loss: 6.2872e-04\n",
            "Epoch 40/65\n",
            "38/38 [==============================] - 0s 9ms/step - loss: 6.3456e-04\n",
            "Epoch 41/65\n",
            "38/38 [==============================] - 0s 9ms/step - loss: 6.4408e-04\n",
            "Epoch 42/65\n",
            "38/38 [==============================] - 0s 9ms/step - loss: 6.7394e-04\n",
            "Epoch 43/65\n",
            "38/38 [==============================] - 0s 9ms/step - loss: 6.1618e-04\n",
            "Epoch 44/65\n",
            "38/38 [==============================] - 0s 9ms/step - loss: 6.3223e-04\n",
            "Epoch 45/65\n",
            "38/38 [==============================] - 0s 9ms/step - loss: 6.0583e-04\n",
            "Epoch 46/65\n",
            "38/38 [==============================] - 0s 9ms/step - loss: 5.9726e-04\n",
            "Epoch 47/65\n",
            "38/38 [==============================] - 0s 9ms/step - loss: 5.7535e-04\n",
            "Epoch 48/65\n",
            "38/38 [==============================] - 0s 9ms/step - loss: 5.6199e-04\n",
            "Epoch 49/65\n",
            "38/38 [==============================] - 0s 10ms/step - loss: 5.6504e-04\n",
            "Epoch 50/65\n",
            "38/38 [==============================] - 0s 10ms/step - loss: 5.8790e-04\n",
            "Epoch 51/65\n",
            "38/38 [==============================] - 0s 9ms/step - loss: 5.7173e-04\n",
            "Epoch 52/65\n",
            "38/38 [==============================] - 0s 10ms/step - loss: 5.3623e-04\n",
            "Epoch 53/65\n",
            "38/38 [==============================] - 0s 9ms/step - loss: 5.5089e-04\n",
            "Epoch 54/65\n",
            "38/38 [==============================] - 0s 9ms/step - loss: 5.2391e-04\n",
            "Epoch 55/65\n",
            "38/38 [==============================] - 0s 9ms/step - loss: 5.3757e-04\n",
            "Epoch 56/65\n",
            "38/38 [==============================] - 0s 9ms/step - loss: 5.4381e-04\n",
            "Epoch 57/65\n",
            "38/38 [==============================] - 0s 9ms/step - loss: 5.2862e-04\n",
            "Epoch 58/65\n",
            "38/38 [==============================] - 0s 9ms/step - loss: 5.4763e-04\n",
            "Epoch 59/65\n",
            "38/38 [==============================] - 0s 9ms/step - loss: 5.1430e-04\n",
            "Epoch 60/65\n",
            "38/38 [==============================] - 0s 9ms/step - loss: 5.0139e-04\n",
            "Epoch 61/65\n",
            "38/38 [==============================] - 1s 14ms/step - loss: 4.9819e-04\n",
            "Epoch 62/65\n",
            "38/38 [==============================] - 1s 14ms/step - loss: 5.0850e-04\n",
            "Epoch 63/65\n",
            "38/38 [==============================] - 1s 15ms/step - loss: 4.8108e-04\n",
            "Epoch 64/65\n",
            "38/38 [==============================] - 1s 15ms/step - loss: 5.1408e-04\n",
            "Epoch 65/65\n",
            "38/38 [==============================] - 1s 16ms/step - loss: 5.2399e-04\n"
          ]
        },
        {
          "output_type": "execute_result",
          "data": {
            "text/plain": [
              "<keras.src.callbacks.History at 0x7e84feb72ce0>"
            ]
          },
          "metadata": {},
          "execution_count": 14
        }
      ]
    },
    {
      "cell_type": "code",
      "source": [
        "dataset_test = pd.read_csv('testset.csv')"
      ],
      "metadata": {
        "id": "oQyngcG8ysQc"
      },
      "execution_count": 15,
      "outputs": []
    },
    {
      "cell_type": "code",
      "source": [
        "dataset_train.columns"
      ],
      "metadata": {
        "colab": {
          "base_uri": "https://localhost:8080/"
        },
        "id": "wWymizGEztej",
        "outputId": "4768de98-3c58-45cc-c1fc-98a70ad05223"
      },
      "execution_count": 16,
      "outputs": [
        {
          "output_type": "execute_result",
          "data": {
            "text/plain": [
              "Index(['Date', 'Open', 'High', 'Low', 'Close', 'Adj Close', 'Volume'], dtype='object')"
            ]
          },
          "metadata": {},
          "execution_count": 16
        }
      ]
    },
    {
      "cell_type": "code",
      "source": [
        "dataset_train.head()"
      ],
      "metadata": {
        "colab": {
          "base_uri": "https://localhost:8080/",
          "height": 206
        },
        "id": "3qImBOv4zvNu",
        "outputId": "31911f9f-b5ca-4ecf-e854-c28db56fac24"
      },
      "execution_count": 17,
      "outputs": [
        {
          "output_type": "execute_result",
          "data": {
            "text/plain": [
              "         Date        Open        High         Low       Close   Adj Close  \\\n",
              "0  2013-01-02  357.385559  361.151062  355.959839  359.288177  359.288177   \n",
              "1  2013-01-03  360.122742  363.600128  358.031342  359.496826  359.496826   \n",
              "2  2013-01-04  362.313507  368.339294  361.488861  366.600616  366.600616   \n",
              "3  2013-01-07  365.348755  367.301056  362.929504  365.001007  365.001007   \n",
              "4  2013-01-08  365.393463  365.771027  359.874359  364.280701  364.280701   \n",
              "\n",
              "    Volume  \n",
              "0  5115500  \n",
              "1  4666500  \n",
              "2  5562800  \n",
              "3  3332900  \n",
              "4  3373900  "
            ],
            "text/html": [
              "\n",
              "  <div id=\"df-8595fc46-c89e-4183-90c5-f0ba32bd91c1\" class=\"colab-df-container\">\n",
              "    <div>\n",
              "<style scoped>\n",
              "    .dataframe tbody tr th:only-of-type {\n",
              "        vertical-align: middle;\n",
              "    }\n",
              "\n",
              "    .dataframe tbody tr th {\n",
              "        vertical-align: top;\n",
              "    }\n",
              "\n",
              "    .dataframe thead th {\n",
              "        text-align: right;\n",
              "    }\n",
              "</style>\n",
              "<table border=\"1\" class=\"dataframe\">\n",
              "  <thead>\n",
              "    <tr style=\"text-align: right;\">\n",
              "      <th></th>\n",
              "      <th>Date</th>\n",
              "      <th>Open</th>\n",
              "      <th>High</th>\n",
              "      <th>Low</th>\n",
              "      <th>Close</th>\n",
              "      <th>Adj Close</th>\n",
              "      <th>Volume</th>\n",
              "    </tr>\n",
              "  </thead>\n",
              "  <tbody>\n",
              "    <tr>\n",
              "      <th>0</th>\n",
              "      <td>2013-01-02</td>\n",
              "      <td>357.385559</td>\n",
              "      <td>361.151062</td>\n",
              "      <td>355.959839</td>\n",
              "      <td>359.288177</td>\n",
              "      <td>359.288177</td>\n",
              "      <td>5115500</td>\n",
              "    </tr>\n",
              "    <tr>\n",
              "      <th>1</th>\n",
              "      <td>2013-01-03</td>\n",
              "      <td>360.122742</td>\n",
              "      <td>363.600128</td>\n",
              "      <td>358.031342</td>\n",
              "      <td>359.496826</td>\n",
              "      <td>359.496826</td>\n",
              "      <td>4666500</td>\n",
              "    </tr>\n",
              "    <tr>\n",
              "      <th>2</th>\n",
              "      <td>2013-01-04</td>\n",
              "      <td>362.313507</td>\n",
              "      <td>368.339294</td>\n",
              "      <td>361.488861</td>\n",
              "      <td>366.600616</td>\n",
              "      <td>366.600616</td>\n",
              "      <td>5562800</td>\n",
              "    </tr>\n",
              "    <tr>\n",
              "      <th>3</th>\n",
              "      <td>2013-01-07</td>\n",
              "      <td>365.348755</td>\n",
              "      <td>367.301056</td>\n",
              "      <td>362.929504</td>\n",
              "      <td>365.001007</td>\n",
              "      <td>365.001007</td>\n",
              "      <td>3332900</td>\n",
              "    </tr>\n",
              "    <tr>\n",
              "      <th>4</th>\n",
              "      <td>2013-01-08</td>\n",
              "      <td>365.393463</td>\n",
              "      <td>365.771027</td>\n",
              "      <td>359.874359</td>\n",
              "      <td>364.280701</td>\n",
              "      <td>364.280701</td>\n",
              "      <td>3373900</td>\n",
              "    </tr>\n",
              "  </tbody>\n",
              "</table>\n",
              "</div>\n",
              "    <div class=\"colab-df-buttons\">\n",
              "\n",
              "  <div class=\"colab-df-container\">\n",
              "    <button class=\"colab-df-convert\" onclick=\"convertToInteractive('df-8595fc46-c89e-4183-90c5-f0ba32bd91c1')\"\n",
              "            title=\"Convert this dataframe to an interactive table.\"\n",
              "            style=\"display:none;\">\n",
              "\n",
              "  <svg xmlns=\"http://www.w3.org/2000/svg\" height=\"24px\" viewBox=\"0 -960 960 960\">\n",
              "    <path d=\"M120-120v-720h720v720H120Zm60-500h600v-160H180v160Zm220 220h160v-160H400v160Zm0 220h160v-160H400v160ZM180-400h160v-160H180v160Zm440 0h160v-160H620v160ZM180-180h160v-160H180v160Zm440 0h160v-160H620v160Z\"/>\n",
              "  </svg>\n",
              "    </button>\n",
              "\n",
              "  <style>\n",
              "    .colab-df-container {\n",
              "      display:flex;\n",
              "      gap: 12px;\n",
              "    }\n",
              "\n",
              "    .colab-df-convert {\n",
              "      background-color: #E8F0FE;\n",
              "      border: none;\n",
              "      border-radius: 50%;\n",
              "      cursor: pointer;\n",
              "      display: none;\n",
              "      fill: #1967D2;\n",
              "      height: 32px;\n",
              "      padding: 0 0 0 0;\n",
              "      width: 32px;\n",
              "    }\n",
              "\n",
              "    .colab-df-convert:hover {\n",
              "      background-color: #E2EBFA;\n",
              "      box-shadow: 0px 1px 2px rgba(60, 64, 67, 0.3), 0px 1px 3px 1px rgba(60, 64, 67, 0.15);\n",
              "      fill: #174EA6;\n",
              "    }\n",
              "\n",
              "    .colab-df-buttons div {\n",
              "      margin-bottom: 4px;\n",
              "    }\n",
              "\n",
              "    [theme=dark] .colab-df-convert {\n",
              "      background-color: #3B4455;\n",
              "      fill: #D2E3FC;\n",
              "    }\n",
              "\n",
              "    [theme=dark] .colab-df-convert:hover {\n",
              "      background-color: #434B5C;\n",
              "      box-shadow: 0px 1px 3px 1px rgba(0, 0, 0, 0.15);\n",
              "      filter: drop-shadow(0px 1px 2px rgba(0, 0, 0, 0.3));\n",
              "      fill: #FFFFFF;\n",
              "    }\n",
              "  </style>\n",
              "\n",
              "    <script>\n",
              "      const buttonEl =\n",
              "        document.querySelector('#df-8595fc46-c89e-4183-90c5-f0ba32bd91c1 button.colab-df-convert');\n",
              "      buttonEl.style.display =\n",
              "        google.colab.kernel.accessAllowed ? 'block' : 'none';\n",
              "\n",
              "      async function convertToInteractive(key) {\n",
              "        const element = document.querySelector('#df-8595fc46-c89e-4183-90c5-f0ba32bd91c1');\n",
              "        const dataTable =\n",
              "          await google.colab.kernel.invokeFunction('convertToInteractive',\n",
              "                                                    [key], {});\n",
              "        if (!dataTable) return;\n",
              "\n",
              "        const docLinkHtml = 'Like what you see? Visit the ' +\n",
              "          '<a target=\"_blank\" href=https://colab.research.google.com/notebooks/data_table.ipynb>data table notebook</a>'\n",
              "          + ' to learn more about interactive tables.';\n",
              "        element.innerHTML = '';\n",
              "        dataTable['output_type'] = 'display_data';\n",
              "        await google.colab.output.renderOutput(dataTable, element);\n",
              "        const docLink = document.createElement('div');\n",
              "        docLink.innerHTML = docLinkHtml;\n",
              "        element.appendChild(docLink);\n",
              "      }\n",
              "    </script>\n",
              "  </div>\n",
              "\n",
              "\n",
              "<div id=\"df-ed231031-50a9-42d4-8deb-4c161612c9b9\">\n",
              "  <button class=\"colab-df-quickchart\" onclick=\"quickchart('df-ed231031-50a9-42d4-8deb-4c161612c9b9')\"\n",
              "            title=\"Suggest charts\"\n",
              "            style=\"display:none;\">\n",
              "\n",
              "<svg xmlns=\"http://www.w3.org/2000/svg\" height=\"24px\"viewBox=\"0 0 24 24\"\n",
              "     width=\"24px\">\n",
              "    <g>\n",
              "        <path d=\"M19 3H5c-1.1 0-2 .9-2 2v14c0 1.1.9 2 2 2h14c1.1 0 2-.9 2-2V5c0-1.1-.9-2-2-2zM9 17H7v-7h2v7zm4 0h-2V7h2v10zm4 0h-2v-4h2v4z\"/>\n",
              "    </g>\n",
              "</svg>\n",
              "  </button>\n",
              "\n",
              "<style>\n",
              "  .colab-df-quickchart {\n",
              "      --bg-color: #E8F0FE;\n",
              "      --fill-color: #1967D2;\n",
              "      --hover-bg-color: #E2EBFA;\n",
              "      --hover-fill-color: #174EA6;\n",
              "      --disabled-fill-color: #AAA;\n",
              "      --disabled-bg-color: #DDD;\n",
              "  }\n",
              "\n",
              "  [theme=dark] .colab-df-quickchart {\n",
              "      --bg-color: #3B4455;\n",
              "      --fill-color: #D2E3FC;\n",
              "      --hover-bg-color: #434B5C;\n",
              "      --hover-fill-color: #FFFFFF;\n",
              "      --disabled-bg-color: #3B4455;\n",
              "      --disabled-fill-color: #666;\n",
              "  }\n",
              "\n",
              "  .colab-df-quickchart {\n",
              "    background-color: var(--bg-color);\n",
              "    border: none;\n",
              "    border-radius: 50%;\n",
              "    cursor: pointer;\n",
              "    display: none;\n",
              "    fill: var(--fill-color);\n",
              "    height: 32px;\n",
              "    padding: 0;\n",
              "    width: 32px;\n",
              "  }\n",
              "\n",
              "  .colab-df-quickchart:hover {\n",
              "    background-color: var(--hover-bg-color);\n",
              "    box-shadow: 0 1px 2px rgba(60, 64, 67, 0.3), 0 1px 3px 1px rgba(60, 64, 67, 0.15);\n",
              "    fill: var(--button-hover-fill-color);\n",
              "  }\n",
              "\n",
              "  .colab-df-quickchart-complete:disabled,\n",
              "  .colab-df-quickchart-complete:disabled:hover {\n",
              "    background-color: var(--disabled-bg-color);\n",
              "    fill: var(--disabled-fill-color);\n",
              "    box-shadow: none;\n",
              "  }\n",
              "\n",
              "  .colab-df-spinner {\n",
              "    border: 2px solid var(--fill-color);\n",
              "    border-color: transparent;\n",
              "    border-bottom-color: var(--fill-color);\n",
              "    animation:\n",
              "      spin 1s steps(1) infinite;\n",
              "  }\n",
              "\n",
              "  @keyframes spin {\n",
              "    0% {\n",
              "      border-color: transparent;\n",
              "      border-bottom-color: var(--fill-color);\n",
              "      border-left-color: var(--fill-color);\n",
              "    }\n",
              "    20% {\n",
              "      border-color: transparent;\n",
              "      border-left-color: var(--fill-color);\n",
              "      border-top-color: var(--fill-color);\n",
              "    }\n",
              "    30% {\n",
              "      border-color: transparent;\n",
              "      border-left-color: var(--fill-color);\n",
              "      border-top-color: var(--fill-color);\n",
              "      border-right-color: var(--fill-color);\n",
              "    }\n",
              "    40% {\n",
              "      border-color: transparent;\n",
              "      border-right-color: var(--fill-color);\n",
              "      border-top-color: var(--fill-color);\n",
              "    }\n",
              "    60% {\n",
              "      border-color: transparent;\n",
              "      border-right-color: var(--fill-color);\n",
              "    }\n",
              "    80% {\n",
              "      border-color: transparent;\n",
              "      border-right-color: var(--fill-color);\n",
              "      border-bottom-color: var(--fill-color);\n",
              "    }\n",
              "    90% {\n",
              "      border-color: transparent;\n",
              "      border-bottom-color: var(--fill-color);\n",
              "    }\n",
              "  }\n",
              "</style>\n",
              "\n",
              "  <script>\n",
              "    async function quickchart(key) {\n",
              "      const quickchartButtonEl =\n",
              "        document.querySelector('#' + key + ' button');\n",
              "      quickchartButtonEl.disabled = true;  // To prevent multiple clicks.\n",
              "      quickchartButtonEl.classList.add('colab-df-spinner');\n",
              "      try {\n",
              "        const charts = await google.colab.kernel.invokeFunction(\n",
              "            'suggestCharts', [key], {});\n",
              "      } catch (error) {\n",
              "        console.error('Error during call to suggestCharts:', error);\n",
              "      }\n",
              "      quickchartButtonEl.classList.remove('colab-df-spinner');\n",
              "      quickchartButtonEl.classList.add('colab-df-quickchart-complete');\n",
              "    }\n",
              "    (() => {\n",
              "      let quickchartButtonEl =\n",
              "        document.querySelector('#df-ed231031-50a9-42d4-8deb-4c161612c9b9 button');\n",
              "      quickchartButtonEl.style.display =\n",
              "        google.colab.kernel.accessAllowed ? 'block' : 'none';\n",
              "    })();\n",
              "  </script>\n",
              "</div>\n",
              "\n",
              "    </div>\n",
              "  </div>\n"
            ],
            "application/vnd.google.colaboratory.intrinsic+json": {
              "type": "dataframe",
              "variable_name": "dataset_train",
              "summary": "{\n  \"name\": \"dataset_train\",\n  \"rows\": 1259,\n  \"fields\": [\n    {\n      \"column\": \"Date\",\n      \"properties\": {\n        \"dtype\": \"object\",\n        \"num_unique_values\": 1259,\n        \"samples\": [\n          \"2013-04-23\",\n          \"2017-01-30\",\n          \"2013-03-06\"\n        ],\n        \"semantic_type\": \"\",\n        \"description\": \"\"\n      }\n    },\n    {\n      \"column\": \"Open\",\n      \"properties\": {\n        \"dtype\": \"number\",\n        \"std\": 175.63057351209417,\n        \"min\": 350.053253,\n        \"max\": 1075.199951,\n        \"num_unique_values\": 1228,\n        \"samples\": [\n          727.580017,\n          524.118103,\n          553.40564\n        ],\n        \"semantic_type\": \"\",\n        \"description\": \"\"\n      }\n    },\n    {\n      \"column\": \"High\",\n      \"properties\": {\n        \"dtype\": \"number\",\n        \"std\": 176.62741611717948,\n        \"min\": 350.391052,\n        \"max\": 1078.48999,\n        \"num_unique_values\": 1239,\n        \"samples\": [\n          580.309143,\n          577.489014,\n          517.056946\n        ],\n        \"semantic_type\": \"\",\n        \"description\": \"\"\n      }\n    },\n    {\n      \"column\": \"Low\",\n      \"properties\": {\n        \"dtype\": \"number\",\n        \"std\": 174.73281352959697,\n        \"min\": 345.512787,\n        \"max\": 1063.550049,\n        \"num_unique_values\": 1240,\n        \"samples\": [\n          576.052551,\n          568.403076,\n          518.469177\n        ],\n        \"semantic_type\": \"\",\n        \"description\": \"\"\n      }\n    },\n    {\n      \"column\": \"Close\",\n      \"properties\": {\n        \"dtype\": \"number\",\n        \"std\": 175.82099273815913,\n        \"min\": 349.164032,\n        \"max\": 1077.140015,\n        \"num_unique_values\": 1245,\n        \"samples\": [\n          749.460022,\n          557.812866,\n          927.330017\n        ],\n        \"semantic_type\": \"\",\n        \"description\": \"\"\n      }\n    },\n    {\n      \"column\": \"Adj Close\",\n      \"properties\": {\n        \"dtype\": \"number\",\n        \"std\": 175.82099273815913,\n        \"min\": 349.164032,\n        \"max\": 1077.140015,\n        \"num_unique_values\": 1245,\n        \"samples\": [\n          749.460022,\n          557.812866,\n          927.330017\n        ],\n        \"semantic_type\": \"\",\n        \"description\": \"\"\n      }\n    },\n    {\n      \"column\": \"Volume\",\n      \"properties\": {\n        \"dtype\": \"number\",\n        \"std\": 1672159,\n        \"min\": 7900,\n        \"max\": 23283100,\n        \"num_unique_values\": 1228,\n        \"samples\": [\n          1837200,\n          2000000,\n          1477800\n        ],\n        \"semantic_type\": \"\",\n        \"description\": \"\"\n      }\n    }\n  ]\n}"
            }
          },
          "metadata": {},
          "execution_count": 17
        }
      ]
    },
    {
      "cell_type": "code",
      "source": [
        "train_set = dataset_train.iloc[:,1:2].values"
      ],
      "metadata": {
        "id": "r8iNLlVhzy9t"
      },
      "execution_count": 18,
      "outputs": []
    },
    {
      "cell_type": "code",
      "source": [
        "type(train_set)"
      ],
      "metadata": {
        "colab": {
          "base_uri": "https://localhost:8080/"
        },
        "id": "F4hnH5X1z26o",
        "outputId": "f402b077-f1f6-4cb2-d63f-01c3533aada9"
      },
      "execution_count": 19,
      "outputs": [
        {
          "output_type": "execute_result",
          "data": {
            "text/plain": [
              "numpy.ndarray"
            ]
          },
          "metadata": {},
          "execution_count": 19
        }
      ]
    },
    {
      "cell_type": "code",
      "source": [
        "train_set.shape"
      ],
      "metadata": {
        "colab": {
          "base_uri": "https://localhost:8080/"
        },
        "id": "yMe1_HmDz61i",
        "outputId": "c63f85a0-33dc-4f5d-e9c4-d240a0c0ddf6"
      },
      "execution_count": 20,
      "outputs": [
        {
          "output_type": "execute_result",
          "data": {
            "text/plain": [
              "(1259, 1)"
            ]
          },
          "metadata": {},
          "execution_count": 20
        }
      ]
    },
    {
      "cell_type": "code",
      "source": [
        "dataset_total = pd.concat((dataset_train['Open'],dataset_test['Open']),axis=0)"
      ],
      "metadata": {
        "id": "3tJR2wPOz97b"
      },
      "execution_count": 21,
      "outputs": []
    },
    {
      "cell_type": "code",
      "source": [
        "inputs = dataset_total.values\n",
        "inputs = inputs.reshape(-1,1)\n",
        "inputs_scaled=sc.transform(inputs)\n",
        "X_test = []\n",
        "for i in range(60,1384):\n",
        "  X_test.append(inputs_scaled[i-60:i,0])\n",
        "X_test = np.array(X_test)\n",
        "X_test = np.reshape(X_test,(X_test.shape[0], X_test.shape[1],1))\n"
      ],
      "metadata": {
        "id": "qAak7foI0di2"
      },
      "execution_count": 22,
      "outputs": []
    },
    {
      "cell_type": "code",
      "source": [
        "X_test.shape"
      ],
      "metadata": {
        "colab": {
          "base_uri": "https://localhost:8080/"
        },
        "id": "5f6tqQ9b0dl1",
        "outputId": "3d302502-a1f7-403f-afa0-1e8f1a7bb5f6"
      },
      "execution_count": 23,
      "outputs": [
        {
          "output_type": "execute_result",
          "data": {
            "text/plain": [
              "(1324, 60, 1)"
            ]
          },
          "metadata": {},
          "execution_count": 23
        }
      ]
    },
    {
      "cell_type": "code",
      "source": [
        "predicted_stock_price_scaled = model.predict(X_test)\n",
        "predicted_stock_price = sc.inverse_transform(predicted_stock_price_scaled)"
      ],
      "metadata": {
        "colab": {
          "base_uri": "https://localhost:8080/"
        },
        "id": "9-m_uC0z0dpg",
        "outputId": "d83cc26a-6805-47fa-b0f4-521c898b5172"
      },
      "execution_count": 24,
      "outputs": [
        {
          "output_type": "stream",
          "name": "stdout",
          "text": [
            "42/42 [==============================] - 0s 4ms/step\n"
          ]
        }
      ]
    },
    {
      "cell_type": "code",
      "source": [
        "plt.plot(np.arange(0,1384),inputs, color='red', label = 'Test(Real) Google stock price')\n",
        "print(\"Deepak raj\")\n",
        "print(\"212222240023\")\n",
        "plt.plot(np.arange(60,1384),predicted_stock_price, color='blue', label = 'Predicted Google stock price')\n",
        "plt.title('Google Stock Price Prediction')\n",
        "plt.xlabel('Time')\n",
        "plt.ylabel('Google Stock Price')\n",
        "plt.legend()\n",
        "plt.show()\n"
      ],
      "metadata": {
        "colab": {
          "base_uri": "https://localhost:8080/",
          "height": 507
        },
        "id": "ERL55hpY0ds3",
        "outputId": "acec398d-cf06-416f-9224-9ddb7561a0b8"
      },
      "execution_count": 30,
      "outputs": [
        {
          "output_type": "stream",
          "name": "stdout",
          "text": [
            "Deepak raj\n",
            "212222240023\n"
          ]
        },
        {
          "output_type": "display_data",
          "data": {
            "text/plain": [
              "<Figure size 640x480 with 1 Axes>"
            ],
            "image/png": "[encoded data removed]"
          },
          "metadata": {}
        }
      ]
    }
  ]
}